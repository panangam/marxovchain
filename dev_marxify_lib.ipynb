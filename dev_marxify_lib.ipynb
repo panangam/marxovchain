{
 "cells": [
  {
   "cell_type": "code",
   "execution_count": 157,
   "metadata": {},
   "outputs": [
    {
     "data": {
      "text/plain": [
       "<module 'marxify' from 'D:\\\\Google Drive\\\\2018-2019 SCU Senior\\\\Q3 Spring\\\\COEN 166 AI\\\\marxovchain\\\\marxify.py'>"
      ]
     },
     "execution_count": 157,
     "metadata": {},
     "output_type": "execute_result"
    }
   ],
   "source": [
    "import marxify\n",
    "import importlib\n",
    "importlib.reload(marxify)"
   ]
  },
  {
   "cell_type": "code",
   "execution_count": 179,
   "metadata": {},
   "outputs": [],
   "source": [
    "with open('corpus/news_trump_uk.txt') as fin:\n",
    "    trump_news_model = marxify.Marxify(fin.read(), textWeight=1)"
   ]
  },
  {
   "cell_type": "code",
   "execution_count": 180,
   "metadata": {},
   "outputs": [
    {
     "data": {
      "text/plain": [
       "'This it cannot so long as the representative of the Royal collection with President Trump and the masses of the historical development of their power to appropriate the products of labour is determined by the queen in 2018.'"
      ]
     },
     "execution_count": 180,
     "metadata": {},
     "output_type": "execute_result"
    }
   ],
   "source": [
    "trump_news_model.marxSays()"
   ]
  },
  {
   "cell_type": "code",
   "execution_count": 156,
   "metadata": {
    "scrolled": true
   },
   "outputs": [
    {
     "data": {
      "text/plain": [
       "\"Since monogamy was caused by economic conditions, will it not disappear, but it will create new needs and, at the party's campaign headquarters in Paris on Sunday, May 26. \""
      ]
     },
     "execution_count": 156,
     "metadata": {},
     "output_type": "execute_result"
    }
   ],
   "source": [
    "paragraph"
   ]
  }
 ],
 "metadata": {
  "kernelspec": {
   "display_name": "Python 3",
   "language": "python",
   "name": "python3"
  },
  "language_info": {
   "codemirror_mode": {
    "name": "ipython",
    "version": 3
   },
   "file_extension": ".py",
   "mimetype": "text/x-python",
   "name": "python",
   "nbconvert_exporter": "python",
   "pygments_lexer": "ipython3",
   "version": "3.6.6"
  }
 },
 "nbformat": 4,
 "nbformat_minor": 2
}
