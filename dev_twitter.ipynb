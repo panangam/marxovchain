{
 "cells": [
  {
   "cell_type": "code",
   "execution_count": 1,
   "metadata": {},
   "outputs": [],
   "source": [
    "import tweepy"
   ]
  },
  {
   "cell_type": "code",
   "execution_count": 6,
   "metadata": {},
   "outputs": [],
   "source": [
    "consumer_key = 'ZIJyJlEMhgpzFE3zrPbqLFSnO'\n",
    "consumer_secret = 'Xa1Vq8Ze5i7SAnj2EdAINnAZOJlVYmWekiAGPXEoXinhp5opE2'\n",
    "access_token = '3264530906-hJ0arh1odGptrBosf5szy8F1O6BpxygzA91WNf0'\n",
    "access_token_secret = 'VsmPmWdYZ3R20zkGKH0cgYcEufSlF7v07j1Wpj847y6ms'\n",
    "\n",
    "auth = tweepy.OAuthHandler(consumer_key, consumer_secret)\n",
    "auth.set_access_token(access_token, access_token_secret)\n",
    "\n",
    "twitterApi = tweepy.API(auth)\n",
    "\n",
    "public_tweets = twitterApi.home_timeline()"
   ]
  },
  {
   "cell_type": "code",
   "execution_count": 7,
   "metadata": {},
   "outputs": [
    {
     "name": "stdout",
     "output_type": "stream",
     "text": [
      "For those interested in #privacy tools for #AI, check out this @Udacity course on Secure and Private AI, covering:… https://t.co/eoLrCTiQCd\n",
      "DeepMind’s @pushmeet spoke to @80000Hours about the importance of building robust and safe AI systems.\n",
      "\n",
      "Listen to t… https://t.co/MrcVRIcSiG\n",
      "We are proud to be Diversity and Inclusion Champions and Platinum sponsors of #NAACL2019 this week! See below for a… https://t.co/UgkSMnUbmc\n",
      "RT @Reza_Zadeh: Fascinating to see what people actually die from, what they search on Google, and what they encounter in a media outlets. h…\n",
      "Large archive of datasets: https://t.co/KTVQI3Xdhh\n",
      "Read all about these new results in our blog post: https://t.co/H8po0D8iJo https://t.co/LPvszwnpPy\n",
      "We've also started experimenting with scaling these algorithms up, creating agents which can play a whole suite of… https://t.co/XKGvSaYiup\n",
      "To understand how our agents worked as well as they do, we studied the activation patterns of our artificial neuron… https://t.co/e3oDXJpgnf\n",
      "CtF-Quake III is a complex, multi-agent environment and canonical 3D 1st-person multiplayer game. Our agents were a… https://t.co/mvUPBaQha7\n",
      "Navigating the complex tactics of team play is a critical challenge of AI research. In our new paper–now published… https://t.co/yVgYlkpdd7\n",
      "RT @GoogleAI: Introducing the #NeurIPS2019 @unet_challenge, a collaboration with @DeepMindAI, @facebookai and @OpenAI aimed at designing ef…\n",
      "Our new paper, \"Open-ended learning in symmetric zero-sum games\" https://t.co/i2Isy2Wnu6 has been accepted by… https://t.co/jh0zfpACcy\n",
      "RT @mpshanahan: Very proud to announce new work from the @DeepMindAI cognition team, bridging the gap between #DeepLearning and symbolic #A…\n",
      "“An Explicitly Relational Neural Network Architecture” - new work from the DeepMind cognition team takes a step tow… https://t.co/vz5WKfqcGF\n",
      "Organised by a collaboration of @DeepMindAI, @GoogleAI, @facebookai and @OpenAI, Google Cloud TPU credits are avail… https://t.co/TosYsrzI6E\n",
      "MicroNet Challenge @NeurIPSConf 2019: the networks we build are dictated by the hardware we have, and the hardware… https://t.co/AAr8cU2b0s\n",
      "RT @demishassabis: Leela Zero (an open source chess program based on #AlphaZero) has just won the top computer chess competition, beating S…\n",
      "RT @demishassabis: Great interview with Fan Hui:\n",
      "“Before I played #AlphaGo, I felt like I knew the world, like I knew many things. But afte…\n",
      "RT @PartnershipAI: To help us better deliver on our mission to support AI technologies that benefit and empower as many people as possible,…\n",
      "Deep learning has so far relied on massive amounts of supervision. We show that unsupervised representation learnin… https://t.co/5dhWohAYna\n"
     ]
    }
   ],
   "source": [
    "for tweet in public_tweets:\n",
    "    print(tweet.text)"
   ]
  },
  {
   "cell_type": "code",
   "execution_count": 11,
   "metadata": {},
   "outputs": [],
   "source": [
    "status = 'The new dinosaur fossil was found in an opal mine and has no initiative, no idealistic impetus, cothurnus, no historical trappings. #dinosaur #gem #hunt #marxovchain'\n",
    "image_filename = 'test.png'\n",
    "\n",
    "#media_id = twitterApi.media_upload(image_filename)"
   ]
  },
  {
   "cell_type": "code",
   "execution_count": 12,
   "metadata": {},
   "outputs": [
    {
     "data": {
      "text/plain": [
       "165"
      ]
     },
     "execution_count": 12,
     "metadata": {},
     "output_type": "execute_result"
    }
   ],
   "source": [
    "len(status)"
   ]
  },
  {
   "cell_type": "code",
   "execution_count": 15,
   "metadata": {},
   "outputs": [
    {
     "data": {
      "text/plain": [
       "Status(_api=<tweepy.api.API object at 0x000001EA6B371160>, _json={'created_at': 'Tue Jun 04 19:29:29 +0000 2019', 'id': 1135991986060693505, 'id_str': '1135991986060693505', 'text': 'The new dinosaur fossil was found in an opal mine and has no initiative, no idealistic impetus, cothurnus, no histo… https://t.co/0RM26EWJsV', 'truncated': True, 'entities': {'hashtags': [], 'symbols': [], 'user_mentions': [], 'urls': [{'url': 'https://t.co/0RM26EWJsV', 'expanded_url': 'https://twitter.com/i/web/status/1135991986060693505', 'display_url': 'twitter.com/i/web/status/1…', 'indices': [117, 140]}]}, 'source': '<a href=\"http://manna.orasphong.com\" rel=\"nofollow\">manna-test</a>', 'in_reply_to_status_id': None, 'in_reply_to_status_id_str': None, 'in_reply_to_user_id': None, 'in_reply_to_user_id_str': None, 'in_reply_to_screen_name': None, 'user': {'id': 3264530906, 'id_str': '3264530906', 'name': 'Oras Phong', 'screen_name': 'orasphong', 'location': '', 'description': '', 'url': None, 'entities': {'description': {'urls': []}}, 'protected': False, 'followers_count': 0, 'friends_count': 2, 'listed_count': 0, 'created_at': 'Wed Jul 01 17:35:08 +0000 2015', 'favourites_count': 0, 'utc_offset': None, 'time_zone': None, 'geo_enabled': False, 'verified': False, 'statuses_count': 0, 'lang': None, 'contributors_enabled': False, 'is_translator': False, 'is_translation_enabled': False, 'profile_background_color': 'C0DEED', 'profile_background_image_url': 'http://abs.twimg.com/images/themes/theme1/bg.png', 'profile_background_image_url_https': 'https://abs.twimg.com/images/themes/theme1/bg.png', 'profile_background_tile': False, 'profile_image_url': 'http://abs.twimg.com/sticky/default_profile_images/default_profile_normal.png', 'profile_image_url_https': 'https://abs.twimg.com/sticky/default_profile_images/default_profile_normal.png', 'profile_link_color': '1DA1F2', 'profile_sidebar_border_color': 'C0DEED', 'profile_sidebar_fill_color': 'DDEEF6', 'profile_text_color': '333333', 'profile_use_background_image': True, 'has_extended_profile': False, 'default_profile': True, 'default_profile_image': True, 'following': False, 'follow_request_sent': False, 'notifications': False, 'translator_type': 'none'}, 'geo': None, 'coordinates': None, 'place': None, 'contributors': None, 'is_quote_status': False, 'retweet_count': 0, 'favorite_count': 0, 'favorited': False, 'retweeted': False, 'possibly_sensitive': False, 'lang': 'en'}, created_at=datetime.datetime(2019, 6, 4, 19, 29, 29), id=1135991986060693505, id_str='1135991986060693505', text='The new dinosaur fossil was found in an opal mine and has no initiative, no idealistic impetus, cothurnus, no histo… https://t.co/0RM26EWJsV', truncated=True, entities={'hashtags': [], 'symbols': [], 'user_mentions': [], 'urls': [{'url': 'https://t.co/0RM26EWJsV', 'expanded_url': 'https://twitter.com/i/web/status/1135991986060693505', 'display_url': 'twitter.com/i/web/status/1…', 'indices': [117, 140]}]}, source='manna-test', source_url='http://manna.orasphong.com', in_reply_to_status_id=None, in_reply_to_status_id_str=None, in_reply_to_user_id=None, in_reply_to_user_id_str=None, in_reply_to_screen_name=None, author=User(_api=<tweepy.api.API object at 0x000001EA6B371160>, _json={'id': 3264530906, 'id_str': '3264530906', 'name': 'Oras Phong', 'screen_name': 'orasphong', 'location': '', 'description': '', 'url': None, 'entities': {'description': {'urls': []}}, 'protected': False, 'followers_count': 0, 'friends_count': 2, 'listed_count': 0, 'created_at': 'Wed Jul 01 17:35:08 +0000 2015', 'favourites_count': 0, 'utc_offset': None, 'time_zone': None, 'geo_enabled': False, 'verified': False, 'statuses_count': 0, 'lang': None, 'contributors_enabled': False, 'is_translator': False, 'is_translation_enabled': False, 'profile_background_color': 'C0DEED', 'profile_background_image_url': 'http://abs.twimg.com/images/themes/theme1/bg.png', 'profile_background_image_url_https': 'https://abs.twimg.com/images/themes/theme1/bg.png', 'profile_background_tile': False, 'profile_image_url': 'http://abs.twimg.com/sticky/default_profile_images/default_profile_normal.png', 'profile_image_url_https': 'https://abs.twimg.com/sticky/default_profile_images/default_profile_normal.png', 'profile_link_color': '1DA1F2', 'profile_sidebar_border_color': 'C0DEED', 'profile_sidebar_fill_color': 'DDEEF6', 'profile_text_color': '333333', 'profile_use_background_image': True, 'has_extended_profile': False, 'default_profile': True, 'default_profile_image': True, 'following': False, 'follow_request_sent': False, 'notifications': False, 'translator_type': 'none'}, id=3264530906, id_str='3264530906', name='Oras Phong', screen_name='orasphong', location='', description='', url=None, entities={'description': {'urls': []}}, protected=False, followers_count=0, friends_count=2, listed_count=0, created_at=datetime.datetime(2015, 7, 1, 17, 35, 8), favourites_count=0, utc_offset=None, time_zone=None, geo_enabled=False, verified=False, statuses_count=0, lang=None, contributors_enabled=False, is_translator=False, is_translation_enabled=False, profile_background_color='C0DEED', profile_background_image_url='http://abs.twimg.com/images/themes/theme1/bg.png', profile_background_image_url_https='https://abs.twimg.com/images/themes/theme1/bg.png', profile_background_tile=False, profile_image_url='http://abs.twimg.com/sticky/default_profile_images/default_profile_normal.png', profile_image_url_https='https://abs.twimg.com/sticky/default_profile_images/default_profile_normal.png', profile_link_color='1DA1F2', profile_sidebar_border_color='C0DEED', profile_sidebar_fill_color='DDEEF6', profile_text_color='333333', profile_use_background_image=True, has_extended_profile=False, default_profile=True, default_profile_image=True, following=False, follow_request_sent=False, notifications=False, translator_type='none'), user=User(_api=<tweepy.api.API object at 0x000001EA6B371160>, _json={'id': 3264530906, 'id_str': '3264530906', 'name': 'Oras Phong', 'screen_name': 'orasphong', 'location': '', 'description': '', 'url': None, 'entities': {'description': {'urls': []}}, 'protected': False, 'followers_count': 0, 'friends_count': 2, 'listed_count': 0, 'created_at': 'Wed Jul 01 17:35:08 +0000 2015', 'favourites_count': 0, 'utc_offset': None, 'time_zone': None, 'geo_enabled': False, 'verified': False, 'statuses_count': 0, 'lang': None, 'contributors_enabled': False, 'is_translator': False, 'is_translation_enabled': False, 'profile_background_color': 'C0DEED', 'profile_background_image_url': 'http://abs.twimg.com/images/themes/theme1/bg.png', 'profile_background_image_url_https': 'https://abs.twimg.com/images/themes/theme1/bg.png', 'profile_background_tile': False, 'profile_image_url': 'http://abs.twimg.com/sticky/default_profile_images/default_profile_normal.png', 'profile_image_url_https': 'https://abs.twimg.com/sticky/default_profile_images/default_profile_normal.png', 'profile_link_color': '1DA1F2', 'profile_sidebar_border_color': 'C0DEED', 'profile_sidebar_fill_color': 'DDEEF6', 'profile_text_color': '333333', 'profile_use_background_image': True, 'has_extended_profile': False, 'default_profile': True, 'default_profile_image': True, 'following': False, 'follow_request_sent': False, 'notifications': False, 'translator_type': 'none'}, id=3264530906, id_str='3264530906', name='Oras Phong', screen_name='orasphong', location='', description='', url=None, entities={'description': {'urls': []}}, protected=False, followers_count=0, friends_count=2, listed_count=0, created_at=datetime.datetime(2015, 7, 1, 17, 35, 8), favourites_count=0, utc_offset=None, time_zone=None, geo_enabled=False, verified=False, statuses_count=0, lang=None, contributors_enabled=False, is_translator=False, is_translation_enabled=False, profile_background_color='C0DEED', profile_background_image_url='http://abs.twimg.com/images/themes/theme1/bg.png', profile_background_image_url_https='https://abs.twimg.com/images/themes/theme1/bg.png', profile_background_tile=False, profile_image_url='http://abs.twimg.com/sticky/default_profile_images/default_profile_normal.png', profile_image_url_https='https://abs.twimg.com/sticky/default_profile_images/default_profile_normal.png', profile_link_color='1DA1F2', profile_sidebar_border_color='C0DEED', profile_sidebar_fill_color='DDEEF6', profile_text_color='333333', profile_use_background_image=True, has_extended_profile=False, default_profile=True, default_profile_image=True, following=False, follow_request_sent=False, notifications=False, translator_type='none'), geo=None, coordinates=None, place=None, contributors=None, is_quote_status=False, retweet_count=0, favorite_count=0, favorited=False, retweeted=False, possibly_sensitive=False, lang='en')"
      ]
     },
     "execution_count": 15,
     "metadata": {},
     "output_type": "execute_result"
    }
   ],
   "source": [
    "twitterApi.update_with_media(status=status, filename=image_filename)"
   ]
  }
 ],
 "metadata": {
  "kernelspec": {
   "display_name": "Python 3",
   "language": "python",
   "name": "python3"
  },
  "language_info": {
   "codemirror_mode": {
    "name": "ipython",
    "version": 3
   },
   "file_extension": ".py",
   "mimetype": "text/x-python",
   "name": "python",
   "nbconvert_exporter": "python",
   "pygments_lexer": "ipython3",
   "version": "3.6.6"
  }
 },
 "nbformat": 4,
 "nbformat_minor": 2
}
