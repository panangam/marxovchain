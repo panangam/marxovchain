{
 "cells": [
  {
   "cell_type": "code",
   "execution_count": 1,
   "metadata": {},
   "outputs": [],
   "source": [
    "import markovify"
   ]
  },
  {
   "cell_type": "code",
   "execution_count": 105,
   "metadata": {},
   "outputs": [],
   "source": [
    "with open('corpus/communist_manifesto_gutenberg.txt') as f:\n",
    "    communist_text = f.read()\n",
    "    \n",
    "communist_model = markovify.Text(text)"
   ]
  },
  {
   "cell_type": "code",
   "execution_count": 106,
   "metadata": {},
   "outputs": [
    {
     "name": "stdout",
     "output_type": "stream",
     "text": [
      "The Communists turn their attention chiefly to Germany, because that country is on the continued existence of the bourgeois mode of appropriation, and thereby to march straightway into the working class, as being the most general phases of the bourgeois State; they are placed under the command of a long course of development of the condition of begetting a new social Gospel.\n",
      "Just as, to the proletariat, and in particular, a portion of the workman of the exploited working class alone.\n",
      "The other classes decay and finally disappear in the same proportion the burden of toil also increases, whether by prolongation of the population.\n",
      "It is enough to mention the commercial crises that by their fanatical and superstitious belief in the material conditions of existence for all earlier epochs, would have seemed an absurdity--the epidemic of over-production.\n",
      "As the parson has ever gone hand in hand with the then undeveloped state and has reduced the family its sentimental veil, and has but established new classes, new conditions of bourgeois property.\n"
     ]
    }
   ],
   "source": [
    "for i in range(5):\n",
    "    print(communist_model.make_sentence())"
   ]
  },
  {
   "cell_type": "code",
   "execution_count": 123,
   "metadata": {},
   "outputs": [],
   "source": [
    "with open('corpus/news1.txt') as f:\n",
    "    news_text = f.read()\n",
    "article_model = markovify.Text(news_text)"
   ]
  },
  {
   "cell_type": "code",
   "execution_count": 124,
   "metadata": {},
   "outputs": [
    {
     "name": "stdout",
     "output_type": "stream",
     "text": [
      "How the leaders choose to interpret these results are good news for those wanting to keep the EU on his terms, rather than copying the Brits and leaving.\n",
      "In the run up to the EU's history, nationalists won.\n",
      "However, while these results show is that Europe must reform if it is to survive.\n",
      "None\n",
      "Europe's populist surge appears to have picked up votes all over Europe, most notably in Germany.\n"
     ]
    }
   ],
   "source": [
    "for i in range(5):\n",
    "    print(article_model.make_sentence())"
   ]
  },
  {
   "cell_type": "code",
   "execution_count": 102,
   "metadata": {},
   "outputs": [
    {
     "name": "stdout",
     "output_type": "stream",
     "text": [
      "Only from the rise of a decade past the history of class culture is to survive.\n",
      "This development has, in its present form, is based on class antagonisms, we shall have an enormous influence on both.\n",
      "A similar movement is the self-conscious, independent movement of the proletariat.\n"
     ]
    }
   ],
   "source": [
    "combined_model = markovify.combine([article_model, communist_model], [3,1])\n",
    "for i in range(3):\n",
    "    print(combined_model.make_short_sentence(150))"
   ]
  }
 ],
 "metadata": {
  "kernelspec": {
   "display_name": "Python 3",
   "language": "python",
   "name": "python3"
  },
  "language_info": {
   "codemirror_mode": {
    "name": "ipython",
    "version": 3
   },
   "file_extension": ".py",
   "mimetype": "text/x-python",
   "name": "python",
   "nbconvert_exporter": "python",
   "pygments_lexer": "ipython3",
   "version": "3.6.6"
  }
 },
 "nbformat": 4,
 "nbformat_minor": 2
}
