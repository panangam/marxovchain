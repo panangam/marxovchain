{
 "cells": [
  {
   "cell_type": "code",
   "execution_count": 347,
   "metadata": {},
   "outputs": [],
   "source": [
    "import markovify\n",
    "from sklearn.feature_extraction.text import TfidfVectorizer\n",
    "import numpy as np"
   ]
  },
  {
   "cell_type": "code",
   "execution_count": 71,
   "metadata": {},
   "outputs": [],
   "source": [
    "with open('corpus/communist_manifesto_gutenberg.txt') as f:\n",
    "    communist_text = f.read()\n",
    "communist_model = markovify.Text(communist_text, state_size=2)\n",
    "\n",
    "with open('corpus/marx_quotes.txt', errors='ignore') as f:\n",
    "    marx_quotes_text = f.read()\n",
    "marx_model = markovify.Text(marx_quotes_text)\n",
    "\n",
    "with open('corpus/news1.txt') as f:\n",
    "    news_text = f.read()\n",
    "article_model = markovify.Text(news_text)"
   ]
  },
  {
   "cell_type": "code",
   "execution_count": 350,
   "metadata": {},
   "outputs": [
    {
     "name": "stdout",
     "output_type": "stream",
     "text": [
      "Instead, millions of voters backed vehemently pro-EU Green and liberal parties also want to do so will not be pretty.\n",
      "Green parties picked up 23.53% of the working class.\n",
      "MANIFESTO OF THE COMMUNISTS IN RELATION TO THE VARIOUS EXISTING OPPOSITION PARTIES Section II has made barbarian and semi-barbarian countries dependent on the rights of property, the necessary offspring of their plans they are conscious of caring chiefly for the enormous majority, a mere instrument of production.\n"
     ]
    }
   ],
   "source": [
    "m = markovify.combine([communist_model, article_model], [1, 3])\n",
    "i = 0\n",
    "while i < 3:\n",
    "    sentence = m.make_sentence()\n",
    "    if 'parties' in sentence.lower():\n",
    "        i += 1\n",
    "        print(sentence)"
   ]
  },
  {
   "cell_type": "code",
   "execution_count": 340,
   "metadata": {},
   "outputs": [],
   "source": [
    "vectorizer = TfidfVectorizer(max_df=0.9, stop_words='english')\n",
    "with open('corpus/brown.txt') as f:\n",
    "    text = f.read()\n",
    "    docs = text.split('#')\n",
    "    vectorizer.fit(docs)"
   ]
  },
  {
   "cell_type": "code",
   "execution_count": 345,
   "metadata": {},
   "outputs": [
    {
     "data": {
      "text/plain": [
       "array(['europe', 'european', 'parties'], dtype='<U22')"
      ]
     },
     "execution_count": 345,
     "metadata": {},
     "output_type": "execute_result"
    }
   ],
   "source": [
    "res = vectorizer.transform([news_text])\n",
    "max_indices = res.A[0].argsort()[-3:]\n",
    "np.array(vectorizer.get_feature_names())[np.flip(max_indices)]"
   ]
  },
  {
   "cell_type": "code",
   "execution_count": 319,
   "metadata": {},
   "outputs": [
    {
     "data": {
      "text/plain": [
       "12.782906282906282"
      ]
     },
     "execution_count": 319,
     "metadata": {},
     "output_type": "execute_result"
    }
   ],
   "source": [
    "len(communist_text)/len(news_text)"
   ]
  }
 ],
 "metadata": {
  "kernelspec": {
   "display_name": "Python 3",
   "language": "python",
   "name": "python3"
  },
  "language_info": {
   "codemirror_mode": {
    "name": "ipython",
    "version": 3
   },
   "file_extension": ".py",
   "mimetype": "text/x-python",
   "name": "python",
   "nbconvert_exporter": "python",
   "pygments_lexer": "ipython3",
   "version": "3.6.6"
  }
 },
 "nbformat": 4,
 "nbformat_minor": 2
}
