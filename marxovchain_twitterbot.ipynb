{
 "cells": [
  {
   "cell_type": "code",
   "execution_count": 7,
   "metadata": {},
   "outputs": [],
   "source": [
    "from newsapi import NewsApiClient\n",
    "import requests\n",
    "from PIL import Image, ImageOps\n",
    "from marxify import Marxify\n",
    "import tweepy\n",
    "import random\n",
    "import time"
   ]
  },
  {
   "cell_type": "code",
   "execution_count": 12,
   "metadata": {},
   "outputs": [],
   "source": [
    "# Prepare APIs\n",
    "\n",
    "# NewsAPI\n",
    "newsApi = NewsApiClient(api_key='bbba33d91ef64b5cafeea9be97da9538')\n",
    "country = 'us' \n",
    "\n",
    "# Twitter API\n",
    "# I have regenerated these so they won't work\n",
    "consumer_key = 'WrPTmBaJESVs7eLfwkiVaqQ7U'\n",
    "consumer_secret = 'MQmk7QllutWAtVMA9GWDenk4Ta2npiBQY8qFiyyim7ksQHhSP6'\n",
    "access_token = '3264530906-gJCKvK5i0sqSZaWTkRvUZVkpgYNGEAf5fIA2oP8'\n",
    "access_token_secret = 'fWvCRNVs3D3LLxlujVtw6DJNaY37dHxRMsLFlSuEHQr4l'\n",
    "\n",
    "auth = tweepy.OAuthHandler(consumer_key, consumer_secret)\n",
    "auth.set_access_token(access_token, access_token_secret)\n",
    "\n",
    "twitterApi = tweepy.API(auth)\n",
    "\n",
    "# picture file name\n",
    "pic_filename = 'pic.png'"
   ]
  },
  {
   "cell_type": "code",
   "execution_count": 13,
   "metadata": {},
   "outputs": [],
   "source": [
    "def uploadCommunistTweet(newsApi, twitterApi, modelChoice='communist'):\n",
    "    # Get latest news and picture\n",
    "    headlines = newsApi.get_top_headlines(country=country)\n",
    "    articles = sorted([r for r in headlines['articles'] if r['content'] is not None], key=lambda r: r['content'])\n",
    "    selectIdx = random.randrange(min(len(articles), 10))\n",
    "    articleJson = articles[selectIdx]\n",
    "    imageUrl = articleJson['urlToImage']\n",
    "    image = Image.open(requests.get(imageUrl, stream=True).raw).convert(mode='RGBA')\n",
    "    image = image.resize((800,450))\n",
    "\n",
    "    # overlay communist symbol\n",
    "    communistSymbol = Image.open('assets/hammer_sickle_and_star.png').resize((180,200))\n",
    "    image.alpha_composite(communistSymbol, (10,10))\n",
    "    image.save(pic_filename)\n",
    "    \n",
    "    # train model\n",
    "    model = Marxify(articleJson['content'][:-15])\n",
    "    \n",
    "    # get status text\n",
    "    modelsDict = {\n",
    "        'communist': model.makeCommunistSentence,\n",
    "        'marx': model.marxSays,\n",
    "        'engels': model.engelsSays,\n",
    "        'che': model.cheSays\n",
    "    }\n",
    "    status = modelsDict[modelChoice]()\n",
    "    status += ' #%s #%s #%s #marxovchain' % (model._keywords[0], model._keywords[1], model._keywords[2])\n",
    "    \n",
    "    # upload to Twitter\n",
    "    twitterApi.update_with_media(status=status, filename=pic_filename)"
   ]
  },
  {
   "cell_type": "code",
   "execution_count": 18,
   "metadata": {},
   "outputs": [],
   "source": [
    "modelChoice = random.choice(['communist', 'marx', 'engels', 'che'])\n",
    "uploadCommunistTweet(newsApi, twitterApi, modelChoice=modelChoice)"
   ]
  }
 ],
 "metadata": {
  "kernelspec": {
   "display_name": "Python 3",
   "language": "python",
   "name": "python3"
  },
  "language_info": {
   "codemirror_mode": {
    "name": "ipython",
    "version": 3
   },
   "file_extension": ".py",
   "mimetype": "text/x-python",
   "name": "python",
   "nbconvert_exporter": "python",
   "pygments_lexer": "ipython3",
   "version": "3.6.6"
  }
 },
 "nbformat": 4,
 "nbformat_minor": 2
}
